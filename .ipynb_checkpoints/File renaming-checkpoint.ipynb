{
 "cells": [
  {
   "cell_type": "code",
   "execution_count": 5,
   "metadata": {},
   "outputs": [],
   "source": [
    "import os\n",
    "import shutil\n",
    "import re"
   ]
  },
  {
   "cell_type": "code",
   "execution_count": 6,
   "metadata": {},
   "outputs": [],
   "source": [
    "input_path = \"D:\\Clouds\\OneDrive - University of Cambridge\\Projects\\zx07_20210321_SimPull\\2021-03-21_15-08-55\"\n",
    "output_path = r\"D:\\Clouds\\OneDrive - University of Cambridge\\Projects\\zx07_20210321_SimPull\\2021-03-21_14-25-32\""
   ]
  },
  {
   "cell_type": "code",
   "execution_count": 7,
   "metadata": {},
   "outputs": [],
   "source": [
    "if os.path.isdir(output_path) != True:\n",
    "    os.mkdir(output_path)"
   ]
  },
  {
   "cell_type": "code",
   "execution_count": 8,
   "metadata": {},
   "outputs": [],
   "source": [
    "def get_filepaths_tif(path):\n",
    "    filepaths = []\n",
    "    for root, dirs, files in os.walk(path):\n",
    "        for file in files:\n",
    "            if file.endswith(\".tif\"):\n",
    "                filepaths.append(os.path.join(root, file))\n",
    "    return filepaths"
   ]
  },
  {
   "cell_type": "code",
   "execution_count": 9,
   "metadata": {},
   "outputs": [],
   "source": [
    "def modify_path(path, x=0, y=0, r=0, w=0, c=0):\n",
    "    pos = re.findall(\"X\\dY\\dR\\dW\\dC\\d\", path)[-1]\n",
    "    pos_new = 'X'+str(int(pos[1])+x)+'Y'+str(int(pos[3])+y)+'R'+str(int(pos[5])+r)+'W'+str(int(pos[7])+w)+'C'+str(int(pos[9])+c)\n",
    "    path_new = path.replace(pos, pos_new)\n",
    "    return path_new"
   ]
  },
  {
   "cell_type": "code",
   "execution_count": 43,
   "metadata": {},
   "outputs": [
    {
     "name": "stdout",
     "output_type": "stream",
     "text": [
      "Successfully copied '/Users/zengjiexia/Desktop/workspace_20210221/slide2/X3Y2R1W3C0_488.tif' to '/Users/zengjiexia/Desktop/workspace_20210221/slide2_orgnised/X8Y2R1W3C0_488.tif'\n",
      "Successfully copied '/Users/zengjiexia/Desktop/workspace_20210221/slide2/X4Y2R2W2C0_488.tif' to '/Users/zengjiexia/Desktop/workspace_20210221/slide2_orgnised/X9Y2R2W2C0_488.tif'\n",
      "Successfully copied '/Users/zengjiexia/Desktop/workspace_20210221/slide2/X3Y1R2W2C0_488.tif' to '/Users/zengjiexia/Desktop/workspace_20210221/slide2_orgnised/X8Y1R2W2C0_488.tif'\n",
      "Successfully copied '/Users/zengjiexia/Desktop/workspace_20210221/slide2/X0Y0R2W3C0_488.tif' to '/Users/zengjiexia/Desktop/workspace_20210221/slide2_orgnised/X5Y0R2W3C0_488.tif'\n",
      "Successfully copied '/Users/zengjiexia/Desktop/workspace_20210221/slide2/X4Y1R1W3C0_488.tif' to '/Users/zengjiexia/Desktop/workspace_20210221/slide2_orgnised/X9Y1R1W3C0_488.tif'\n",
      "Successfully copied '/Users/zengjiexia/Desktop/workspace_20210221/slide2/X1Y2R3W3C0_488.tif' to '/Users/zengjiexia/Desktop/workspace_20210221/slide2_orgnised/X6Y2R3W3C0_488.tif'\n",
      "Successfully copied '/Users/zengjiexia/Desktop/workspace_20210221/slide2/X1Y1R2W1C0_488.tif' to '/Users/zengjiexia/Desktop/workspace_20210221/slide2_orgnised/X6Y1R2W1C0_488.tif'\n",
      "Successfully copied '/Users/zengjiexia/Desktop/workspace_20210221/slide2/X2Y1R1W2C0_488.tif' to '/Users/zengjiexia/Desktop/workspace_20210221/slide2_orgnised/X7Y1R1W2C0_488.tif'\n",
      "Successfully copied '/Users/zengjiexia/Desktop/workspace_20210221/slide2/X1Y0R1W3C0_488.tif' to '/Users/zengjiexia/Desktop/workspace_20210221/slide2_orgnised/X6Y0R1W3C0_488.tif'\n",
      "Successfully copied '/Users/zengjiexia/Desktop/workspace_20210221/slide2/X0Y1R1W1C0_488.tif' to '/Users/zengjiexia/Desktop/workspace_20210221/slide2_orgnised/X5Y1R1W1C0_488.tif'\n",
      "Successfully copied '/Users/zengjiexia/Desktop/workspace_20210221/slide2/X4Y0R2W1C0_488.tif' to '/Users/zengjiexia/Desktop/workspace_20210221/slide2_orgnised/X9Y0R2W1C0_488.tif'\n",
      "Successfully copied '/Users/zengjiexia/Desktop/workspace_20210221/slide2/X2Y2R2W3C0_488.tif' to '/Users/zengjiexia/Desktop/workspace_20210221/slide2_orgnised/X7Y2R2W3C0_488.tif'\n",
      "Successfully copied '/Users/zengjiexia/Desktop/workspace_20210221/slide2/X2Y1R3W1C0_488.tif' to '/Users/zengjiexia/Desktop/workspace_20210221/slide2_orgnised/X7Y1R3W1C0_488.tif'\n",
      "Successfully copied '/Users/zengjiexia/Desktop/workspace_20210221/slide2/X3Y0R3W3C0_488.tif' to '/Users/zengjiexia/Desktop/workspace_20210221/slide2_orgnised/X8Y0R3W3C0_488.tif'\n",
      "Successfully copied '/Users/zengjiexia/Desktop/workspace_20210221/slide2/X0Y1R3W2C0_488.tif' to '/Users/zengjiexia/Desktop/workspace_20210221/slide2_orgnised/X5Y1R3W2C0_488.tif'\n",
      "Successfully copied '/Users/zengjiexia/Desktop/workspace_20210221/slide2/X2Y2R1W2C0_488.tif' to '/Users/zengjiexia/Desktop/workspace_20210221/slide2_orgnised/X7Y2R1W2C0_488.tif'\n",
      "Successfully copied '/Users/zengjiexia/Desktop/workspace_20210221/slide2/X0Y2R1W1C0_488.tif' to '/Users/zengjiexia/Desktop/workspace_20210221/slide2_orgnised/X5Y2R1W1C0_488.tif'\n",
      "Successfully copied '/Users/zengjiexia/Desktop/workspace_20210221/slide2/X4Y0R3W3C0_488.tif' to '/Users/zengjiexia/Desktop/workspace_20210221/slide2_orgnised/X9Y0R3W3C0_488.tif'\n",
      "Successfully copied '/Users/zengjiexia/Desktop/workspace_20210221/slide2/X3Y0R2W1C0_488.tif' to '/Users/zengjiexia/Desktop/workspace_20210221/slide2_orgnised/X8Y0R2W1C0_488.tif'\n",
      "Successfully copied '/Users/zengjiexia/Desktop/workspace_20210221/slide2/X2Y2R3W1C0_488.tif' to '/Users/zengjiexia/Desktop/workspace_20210221/slide2_orgnised/X7Y2R3W1C0_488.tif'\n",
      "Successfully copied '/Users/zengjiexia/Desktop/workspace_20210221/slide2/X2Y1R2W3C0_488.tif' to '/Users/zengjiexia/Desktop/workspace_20210221/slide2_orgnised/X7Y1R2W3C0_488.tif'\n",
      "Successfully copied '/Users/zengjiexia/Desktop/workspace_20210221/slide2/X1Y0R2W2C0_488.tif' to '/Users/zengjiexia/Desktop/workspace_20210221/slide2_orgnised/X6Y0R2W2C0_488.tif'\n",
      "Successfully copied '/Users/zengjiexia/Desktop/workspace_20210221/slide2/X0Y2R3W2C0_488.tif' to '/Users/zengjiexia/Desktop/workspace_20210221/slide2_orgnised/X5Y2R3W2C0_488.tif'\n",
      "Successfully copied '/Users/zengjiexia/Desktop/workspace_20210221/slide2/X2Y0R1W1C0_488.tif' to '/Users/zengjiexia/Desktop/workspace_20210221/slide2_orgnised/X7Y0R1W1C0_488.tif'\n",
      "Successfully copied '/Users/zengjiexia/Desktop/workspace_20210221/slide2/X3Y1R1W3C0_488.tif' to '/Users/zengjiexia/Desktop/workspace_20210221/slide2_orgnised/X8Y1R1W3C0_488.tif'\n",
      "Successfully copied '/Users/zengjiexia/Desktop/workspace_20210221/slide2/X4Y1R2W2C0_488.tif' to '/Users/zengjiexia/Desktop/workspace_20210221/slide2_orgnised/X9Y1R2W2C0_488.tif'\n",
      "Successfully copied '/Users/zengjiexia/Desktop/workspace_20210221/slide2/X0Y0R1W2C0_488.tif' to '/Users/zengjiexia/Desktop/workspace_20210221/slide2_orgnised/X5Y0R1W2C0_488.tif'\n",
      "Successfully copied '/Users/zengjiexia/Desktop/workspace_20210221/slide2/X3Y2R2W2C0_488.tif' to '/Users/zengjiexia/Desktop/workspace_20210221/slide2_orgnised/X8Y2R2W2C0_488.tif'\n",
      "Successfully copied '/Users/zengjiexia/Desktop/workspace_20210221/slide2/X2Y0R3W2C0_488.tif' to '/Users/zengjiexia/Desktop/workspace_20210221/slide2_orgnised/X7Y0R3W2C0_488.tif'\n",
      "Successfully copied '/Users/zengjiexia/Desktop/workspace_20210221/slide2/X1Y2R2W1C0_488.tif' to '/Users/zengjiexia/Desktop/workspace_20210221/slide2_orgnised/X6Y2R2W1C0_488.tif'\n",
      "Successfully copied '/Users/zengjiexia/Desktop/workspace_20210221/slide2/X1Y1R3W3C0_488.tif' to '/Users/zengjiexia/Desktop/workspace_20210221/slide2_orgnised/X6Y1R3W3C0_488.tif'\n",
      "Successfully copied '/Users/zengjiexia/Desktop/workspace_20210221/slide2/X0Y0R3W1C0_488.tif' to '/Users/zengjiexia/Desktop/workspace_20210221/slide2_orgnised/X5Y0R3W1C0_488.tif'\n",
      "Successfully copied '/Users/zengjiexia/Desktop/workspace_20210221/slide2/X4Y2R1W3C0_488.tif' to '/Users/zengjiexia/Desktop/workspace_20210221/slide2_orgnised/X9Y2R1W3C0_488.tif'\n",
      "Successfully copied '/Users/zengjiexia/Desktop/workspace_20210221/slide2/X1Y2R1W1C0_488.tif' to '/Users/zengjiexia/Desktop/workspace_20210221/slide2_orgnised/X6Y2R1W1C0_488.tif'\n",
      "Successfully copied '/Users/zengjiexia/Desktop/workspace_20210221/slide2/X4Y1R3W1C0_488.tif' to '/Users/zengjiexia/Desktop/workspace_20210221/slide2_orgnised/X9Y1R3W1C0_488.tif'\n",
      "Successfully copied '/Users/zengjiexia/Desktop/workspace_20210221/slide2/X4Y2R2W3C0_488.tif' to '/Users/zengjiexia/Desktop/workspace_20210221/slide2_orgnised/X9Y2R2W3C0_488.tif'\n",
      "Successfully copied '/Users/zengjiexia/Desktop/workspace_20210221/slide2/X3Y2R1W2C0_488.tif' to '/Users/zengjiexia/Desktop/workspace_20210221/slide2_orgnised/X8Y2R1W2C0_488.tif'\n",
      "Successfully copied '/Users/zengjiexia/Desktop/workspace_20210221/slide2/X0Y0R2W2C0_488.tif' to '/Users/zengjiexia/Desktop/workspace_20210221/slide2_orgnised/X5Y0R2W2C0_488.tif'\n",
      "Successfully copied '/Users/zengjiexia/Desktop/workspace_20210221/slide2/X4Y1R1W2C0_488.tif' to '/Users/zengjiexia/Desktop/workspace_20210221/slide2_orgnised/X9Y1R1W2C0_488.tif'\n",
      "Successfully copied '/Users/zengjiexia/Desktop/workspace_20210221/slide2/X1Y2R3W2C0_488.tif' to '/Users/zengjiexia/Desktop/workspace_20210221/slide2_orgnised/X6Y2R3W2C0_488.tif'\n",
      "Successfully copied '/Users/zengjiexia/Desktop/workspace_20210221/slide2/X2Y0R2W1C0_488.tif' to '/Users/zengjiexia/Desktop/workspace_20210221/slide2_orgnised/X7Y0R2W1C0_488.tif'\n",
      "Successfully copied '/Users/zengjiexia/Desktop/workspace_20210221/slide2/X3Y2R3W1C0_488.tif' to '/Users/zengjiexia/Desktop/workspace_20210221/slide2_orgnised/X8Y2R3W1C0_488.tif'\n",
      "Successfully copied '/Users/zengjiexia/Desktop/workspace_20210221/slide2/X3Y1R2W3C0_488.tif' to '/Users/zengjiexia/Desktop/workspace_20210221/slide2_orgnised/X8Y1R2W3C0_488.tif'\n",
      "Successfully copied '/Users/zengjiexia/Desktop/workspace_20210221/slide2/X1Y0R1W2C0_488.tif' to '/Users/zengjiexia/Desktop/workspace_20210221/slide2_orgnised/X6Y0R1W2C0_488.tif'\n",
      "Successfully copied '/Users/zengjiexia/Desktop/workspace_20210221/slide2/X3Y0R1W1C0_488.tif' to '/Users/zengjiexia/Desktop/workspace_20210221/slide2_orgnised/X8Y0R1W1C0_488.tif'\n",
      "Successfully copied '/Users/zengjiexia/Desktop/workspace_20210221/slide2/X2Y1R1W3C0_488.tif' to '/Users/zengjiexia/Desktop/workspace_20210221/slide2_orgnised/X7Y1R1W3C0_488.tif'\n",
      "Successfully copied '/Users/zengjiexia/Desktop/workspace_20210221/slide2/X0Y2R2W1C0_488.tif' to '/Users/zengjiexia/Desktop/workspace_20210221/slide2_orgnised/X5Y2R2W1C0_488.tif'\n",
      "Successfully copied '/Users/zengjiexia/Desktop/workspace_20210221/slide2/X0Y1R3W3C0_488.tif' to '/Users/zengjiexia/Desktop/workspace_20210221/slide2_orgnised/X5Y1R3W3C0_488.tif'\n"
     ]
    },
    {
     "name": "stdout",
     "output_type": "stream",
     "text": [
      "Successfully copied '/Users/zengjiexia/Desktop/workspace_20210221/slide2/X1Y0R3W1C0_488.tif' to '/Users/zengjiexia/Desktop/workspace_20210221/slide2_orgnised/X6Y0R3W1C0_488.tif'\n",
      "Successfully copied '/Users/zengjiexia/Desktop/workspace_20210221/slide2/X2Y2R2W2C0_488.tif' to '/Users/zengjiexia/Desktop/workspace_20210221/slide2_orgnised/X7Y2R2W2C0_488.tif'\n",
      "Successfully copied '/Users/zengjiexia/Desktop/workspace_20210221/slide2/X3Y0R3W2C0_488.tif' to '/Users/zengjiexia/Desktop/workspace_20210221/slide2_orgnised/X8Y0R3W2C0_488.tif'\n",
      "Successfully copied '/Users/zengjiexia/Desktop/workspace_20210221/slide2/X4Y0R3W2C0_488.tif' to '/Users/zengjiexia/Desktop/workspace_20210221/slide2_orgnised/X9Y0R3W2C0_488.tif'\n",
      "Successfully copied '/Users/zengjiexia/Desktop/workspace_20210221/slide2/X2Y2R1W3C0_488.tif' to '/Users/zengjiexia/Desktop/workspace_20210221/slide2_orgnised/X7Y2R1W3C0_488.tif'\n",
      "Successfully copied '/Users/zengjiexia/Desktop/workspace_20210221/slide2/X1Y0R2W3C0_488.tif' to '/Users/zengjiexia/Desktop/workspace_20210221/slide2_orgnised/X6Y0R2W3C0_488.tif'\n",
      "Successfully copied '/Users/zengjiexia/Desktop/workspace_20210221/slide2/X0Y2R3W3C0_488.tif' to '/Users/zengjiexia/Desktop/workspace_20210221/slide2_orgnised/X5Y2R3W3C0_488.tif'\n",
      "Successfully copied '/Users/zengjiexia/Desktop/workspace_20210221/slide2/X4Y0R1W1C0_488.tif' to '/Users/zengjiexia/Desktop/workspace_20210221/slide2_orgnised/X9Y0R1W1C0_488.tif'\n",
      "Successfully copied '/Users/zengjiexia/Desktop/workspace_20210221/slide2/X0Y1R2W1C0_488.tif' to '/Users/zengjiexia/Desktop/workspace_20210221/slide2_orgnised/X5Y1R2W1C0_488.tif'\n",
      "Successfully copied '/Users/zengjiexia/Desktop/workspace_20210221/slide2/X2Y1R2W2C0_488.tif' to '/Users/zengjiexia/Desktop/workspace_20210221/slide2_orgnised/X7Y1R2W2C0_488.tif'\n",
      "Successfully copied '/Users/zengjiexia/Desktop/workspace_20210221/slide2/X4Y1R2W3C0_488.tif' to '/Users/zengjiexia/Desktop/workspace_20210221/slide2_orgnised/X9Y1R2W3C0_488.tif'\n",
      "Successfully copied '/Users/zengjiexia/Desktop/workspace_20210221/slide2/X0Y0R1W3C0_488.tif' to '/Users/zengjiexia/Desktop/workspace_20210221/slide2_orgnised/X5Y0R1W3C0_488.tif'\n",
      "Successfully copied '/Users/zengjiexia/Desktop/workspace_20210221/slide2/X4Y2R3W1C0_488.tif' to '/Users/zengjiexia/Desktop/workspace_20210221/slide2_orgnised/X9Y2R3W1C0_488.tif'\n",
      "Successfully copied '/Users/zengjiexia/Desktop/workspace_20210221/slide2/X1Y1R1W1C0_488.tif' to '/Users/zengjiexia/Desktop/workspace_20210221/slide2_orgnised/X6Y1R1W1C0_488.tif'\n",
      "Successfully copied '/Users/zengjiexia/Desktop/workspace_20210221/slide2/X3Y1R1W2C0_488.tif' to '/Users/zengjiexia/Desktop/workspace_20210221/slide2_orgnised/X8Y1R1W2C0_488.tif'\n",
      "Successfully copied '/Users/zengjiexia/Desktop/workspace_20210221/slide2/X1Y1R3W2C0_488.tif' to '/Users/zengjiexia/Desktop/workspace_20210221/slide2_orgnised/X6Y1R3W2C0_488.tif'\n",
      "Successfully copied '/Users/zengjiexia/Desktop/workspace_20210221/slide2/X4Y2R1W2C0_488.tif' to '/Users/zengjiexia/Desktop/workspace_20210221/slide2_orgnised/X9Y2R1W2C0_488.tif'\n",
      "Successfully copied '/Users/zengjiexia/Desktop/workspace_20210221/slide2/X3Y2R2W3C0_488.tif' to '/Users/zengjiexia/Desktop/workspace_20210221/slide2_orgnised/X8Y2R2W3C0_488.tif'\n",
      "Successfully copied '/Users/zengjiexia/Desktop/workspace_20210221/slide2/X3Y1R3W1C0_488.tif' to '/Users/zengjiexia/Desktop/workspace_20210221/slide2_orgnised/X8Y1R3W1C0_488.tif'\n",
      "Successfully copied '/Users/zengjiexia/Desktop/workspace_20210221/slide2/X2Y0R3W3C0_488.tif' to '/Users/zengjiexia/Desktop/workspace_20210221/slide2_orgnised/X7Y0R3W3C0_488.tif'\n",
      "Successfully copied '/Users/zengjiexia/Desktop/workspace_20210221/slide2/X2Y0R2W2C0_488.tif' to '/Users/zengjiexia/Desktop/workspace_20210221/slide2_orgnised/X7Y0R2W2C0_488.tif'\n",
      "Successfully copied '/Users/zengjiexia/Desktop/workspace_20210221/slide2/X3Y2R3W2C0_488.tif' to '/Users/zengjiexia/Desktop/workspace_20210221/slide2_orgnised/X8Y2R3W2C0_488.tif'\n",
      "Successfully copied '/Users/zengjiexia/Desktop/workspace_20210221/slide2/X4Y1R1W1C0_488.tif' to '/Users/zengjiexia/Desktop/workspace_20210221/slide2_orgnised/X9Y1R1W1C0_488.tif'\n",
      "Successfully copied '/Users/zengjiexia/Desktop/workspace_20210221/slide2/X0Y0R2W1C0_488.tif' to '/Users/zengjiexia/Desktop/workspace_20210221/slide2_orgnised/X5Y0R2W1C0_488.tif'\n",
      "Successfully copied '/Users/zengjiexia/Desktop/workspace_20210221/slide2/X1Y1R2W3C0_488.tif' to '/Users/zengjiexia/Desktop/workspace_20210221/slide2_orgnised/X6Y1R2W3C0_488.tif'\n",
      "Successfully copied '/Users/zengjiexia/Desktop/workspace_20210221/slide2/X1Y2R3W1C0_488.tif' to '/Users/zengjiexia/Desktop/workspace_20210221/slide2_orgnised/X6Y2R3W1C0_488.tif'\n",
      "Successfully copied '/Users/zengjiexia/Desktop/workspace_20210221/slide2/X3Y2R1W1C0_488.tif' to '/Users/zengjiexia/Desktop/workspace_20210221/slide2_orgnised/X8Y2R1W1C0_488.tif'\n",
      "Successfully copied '/Users/zengjiexia/Desktop/workspace_20210221/slide2/X1Y2R1W2C0_488.tif' to '/Users/zengjiexia/Desktop/workspace_20210221/slide2_orgnised/X6Y2R1W2C0_488.tif'\n",
      "Successfully copied '/Users/zengjiexia/Desktop/workspace_20210221/slide2/X4Y1R3W2C0_488.tif' to '/Users/zengjiexia/Desktop/workspace_20210221/slide2_orgnised/X9Y1R3W2C0_488.tif'\n",
      "Successfully copied '/Users/zengjiexia/Desktop/workspace_20210221/slide2/X2Y1R3W3C0_488.tif' to '/Users/zengjiexia/Desktop/workspace_20210221/slide2_orgnised/X7Y1R3W3C0_488.tif'\n",
      "Successfully copied '/Users/zengjiexia/Desktop/workspace_20210221/slide2/X2Y2R2W1C0_488.tif' to '/Users/zengjiexia/Desktop/workspace_20210221/slide2_orgnised/X7Y2R2W1C0_488.tif'\n",
      "Successfully copied '/Users/zengjiexia/Desktop/workspace_20210221/slide2/X3Y0R3W1C0_488.tif' to '/Users/zengjiexia/Desktop/workspace_20210221/slide2_orgnised/X8Y0R3W1C0_488.tif'\n",
      "Successfully copied '/Users/zengjiexia/Desktop/workspace_20210221/slide2/X0Y2R2W2C0_488.tif' to '/Users/zengjiexia/Desktop/workspace_20210221/slide2_orgnised/X5Y2R2W2C0_488.tif'\n",
      "Successfully copied '/Users/zengjiexia/Desktop/workspace_20210221/slide2/X1Y0R3W2C0_488.tif' to '/Users/zengjiexia/Desktop/workspace_20210221/slide2_orgnised/X6Y0R3W2C0_488.tif'\n",
      "Successfully copied '/Users/zengjiexia/Desktop/workspace_20210221/slide2/X3Y0R1W2C0_488.tif' to '/Users/zengjiexia/Desktop/workspace_20210221/slide2_orgnised/X8Y0R1W2C0_488.tif'\n",
      "Successfully copied '/Users/zengjiexia/Desktop/workspace_20210221/slide2/X1Y0R1W1C0_488.tif' to '/Users/zengjiexia/Desktop/workspace_20210221/slide2_orgnised/X6Y0R1W1C0_488.tif'\n",
      "Successfully copied '/Users/zengjiexia/Desktop/workspace_20210221/slide2/X4Y0R2W3C0_488.tif' to '/Users/zengjiexia/Desktop/workspace_20210221/slide2_orgnised/X9Y0R2W3C0_488.tif'\n",
      "Successfully copied '/Users/zengjiexia/Desktop/workspace_20210221/slide2/X0Y1R1W3C0_488.tif' to '/Users/zengjiexia/Desktop/workspace_20210221/slide2_orgnised/X5Y1R1W3C0_488.tif'\n",
      "Successfully copied '/Users/zengjiexia/Desktop/workspace_20210221/slide2/X3Y0R2W3C0_488.tif' to '/Users/zengjiexia/Desktop/workspace_20210221/slide2_orgnised/X8Y0R2W3C0_488.tif'\n",
      "Successfully copied '/Users/zengjiexia/Desktop/workspace_20210221/slide2/X2Y1R2W1C0_488.tif' to '/Users/zengjiexia/Desktop/workspace_20210221/slide2_orgnised/X7Y1R2W1C0_488.tif'\n",
      "Successfully copied '/Users/zengjiexia/Desktop/workspace_20210221/slide2/X2Y2R3W3C0_488.tif' to '/Users/zengjiexia/Desktop/workspace_20210221/slide2_orgnised/X7Y2R3W3C0_488.tif'\n",
      "Successfully copied '/Users/zengjiexia/Desktop/workspace_20210221/slide2/X0Y1R2W2C0_488.tif' to '/Users/zengjiexia/Desktop/workspace_20210221/slide2_orgnised/X5Y1R2W2C0_488.tif'\n",
      "Successfully copied '/Users/zengjiexia/Desktop/workspace_20210221/slide2/X4Y0R1W2C0_488.tif' to '/Users/zengjiexia/Desktop/workspace_20210221/slide2_orgnised/X9Y0R1W2C0_488.tif'\n",
      "Successfully copied '/Users/zengjiexia/Desktop/workspace_20210221/slide2/X4Y0R3W1C0_488.tif' to '/Users/zengjiexia/Desktop/workspace_20210221/slide2_orgnised/X9Y0R3W1C0_488.tif'\n",
      "Successfully copied '/Users/zengjiexia/Desktop/workspace_20210221/slide2/X0Y2R1W3C0_488.tif' to '/Users/zengjiexia/Desktop/workspace_20210221/slide2_orgnised/X5Y2R1W3C0_488.tif'\n",
      "Successfully copied '/Users/zengjiexia/Desktop/workspace_20210221/slide2/X3Y1R3W2C0_488.tif' to '/Users/zengjiexia/Desktop/workspace_20210221/slide2_orgnised/X8Y1R3W2C0_488.tif'\n",
      "Successfully copied '/Users/zengjiexia/Desktop/workspace_20210221/slide2/X1Y1R3W1C0_488.tif' to '/Users/zengjiexia/Desktop/workspace_20210221/slide2_orgnised/X6Y1R3W1C0_488.tif'\n",
      "Successfully copied '/Users/zengjiexia/Desktop/workspace_20210221/slide2/X1Y2R2W3C0_488.tif' to '/Users/zengjiexia/Desktop/workspace_20210221/slide2_orgnised/X6Y2R2W3C0_488.tif'\n"
     ]
    },
    {
     "name": "stdout",
     "output_type": "stream",
     "text": [
      "Successfully copied '/Users/zengjiexia/Desktop/workspace_20210221/slide2/X4Y2R1W1C0_488.tif' to '/Users/zengjiexia/Desktop/workspace_20210221/slide2_orgnised/X9Y2R1W1C0_488.tif'\n",
      "Successfully copied '/Users/zengjiexia/Desktop/workspace_20210221/slide2/X0Y0R3W3C0_488.tif' to '/Users/zengjiexia/Desktop/workspace_20210221/slide2_orgnised/X5Y0R3W3C0_488.tif'\n",
      "Successfully copied '/Users/zengjiexia/Desktop/workspace_20210221/slide2/X2Y0R1W3C0_488.tif' to '/Users/zengjiexia/Desktop/workspace_20210221/slide2_orgnised/X7Y0R1W3C0_488.tif'\n",
      "Successfully copied '/Users/zengjiexia/Desktop/workspace_20210221/slide2/X3Y1R1W1C0_488.tif' to '/Users/zengjiexia/Desktop/workspace_20210221/slide2_orgnised/X8Y1R1W1C0_488.tif'\n",
      "Successfully copied '/Users/zengjiexia/Desktop/workspace_20210221/slide2/X4Y2R3W2C0_488.tif' to '/Users/zengjiexia/Desktop/workspace_20210221/slide2_orgnised/X9Y2R3W2C0_488.tif'\n",
      "Successfully copied '/Users/zengjiexia/Desktop/workspace_20210221/slide2/X1Y1R1W2C0_488.tif' to '/Users/zengjiexia/Desktop/workspace_20210221/slide2_orgnised/X6Y1R1W2C0_488.tif'\n",
      "Successfully copied '/Users/zengjiexia/Desktop/workspace_20210221/slide2/X1Y1R2W2C0_488.tif' to '/Users/zengjiexia/Desktop/workspace_20210221/slide2_orgnised/X6Y1R2W2C0_488.tif'\n",
      "Successfully copied '/Users/zengjiexia/Desktop/workspace_20210221/slide2/X2Y0R2W3C0_488.tif' to '/Users/zengjiexia/Desktop/workspace_20210221/slide2_orgnised/X7Y0R2W3C0_488.tif'\n",
      "Successfully copied '/Users/zengjiexia/Desktop/workspace_20210221/slide2/X3Y1R2W1C0_488.tif' to '/Users/zengjiexia/Desktop/workspace_20210221/slide2_orgnised/X8Y1R2W1C0_488.tif'\n",
      "Successfully copied '/Users/zengjiexia/Desktop/workspace_20210221/slide2/X3Y2R3W3C0_488.tif' to '/Users/zengjiexia/Desktop/workspace_20210221/slide2_orgnised/X8Y2R3W3C0_488.tif'\n",
      "Successfully copied '/Users/zengjiexia/Desktop/workspace_20210221/slide2/X1Y2R1W3C0_488.tif' to '/Users/zengjiexia/Desktop/workspace_20210221/slide2_orgnised/X6Y2R1W3C0_488.tif'\n",
      "Successfully copied '/Users/zengjiexia/Desktop/workspace_20210221/slide2/X4Y2R2W1C0_488.tif' to '/Users/zengjiexia/Desktop/workspace_20210221/slide2_orgnised/X9Y2R2W1C0_488.tif'\n",
      "Successfully copied '/Users/zengjiexia/Desktop/workspace_20210221/slide2/X4Y1R3W3C0_488.tif' to '/Users/zengjiexia/Desktop/workspace_20210221/slide2_orgnised/X9Y1R3W3C0_488.tif'\n",
      "Successfully copied '/Users/zengjiexia/Desktop/workspace_20210221/slide2/X0Y1R3W1C0_488.tif' to '/Users/zengjiexia/Desktop/workspace_20210221/slide2_orgnised/X5Y1R3W1C0_488.tif'\n",
      "Successfully copied '/Users/zengjiexia/Desktop/workspace_20210221/slide2/X0Y2R2W3C0_488.tif' to '/Users/zengjiexia/Desktop/workspace_20210221/slide2_orgnised/X5Y2R2W3C0_488.tif'\n",
      "Successfully copied '/Users/zengjiexia/Desktop/workspace_20210221/slide2/X1Y0R3W3C0_488.tif' to '/Users/zengjiexia/Desktop/workspace_20210221/slide2_orgnised/X6Y0R3W3C0_488.tif'\n",
      "Successfully copied '/Users/zengjiexia/Desktop/workspace_20210221/slide2/X2Y1R3W2C0_488.tif' to '/Users/zengjiexia/Desktop/workspace_20210221/slide2_orgnised/X7Y1R3W2C0_488.tif'\n",
      "Successfully copied '/Users/zengjiexia/Desktop/workspace_20210221/slide2/X4Y0R2W2C0_488.tif' to '/Users/zengjiexia/Desktop/workspace_20210221/slide2_orgnised/X9Y0R2W2C0_488.tif'\n",
      "Successfully copied '/Users/zengjiexia/Desktop/workspace_20210221/slide2/X0Y1R1W2C0_488.tif' to '/Users/zengjiexia/Desktop/workspace_20210221/slide2_orgnised/X5Y1R1W2C0_488.tif'\n",
      "Successfully copied '/Users/zengjiexia/Desktop/workspace_20210221/slide2/X3Y0R1W3C0_488.tif' to '/Users/zengjiexia/Desktop/workspace_20210221/slide2_orgnised/X8Y0R1W3C0_488.tif'\n",
      "Successfully copied '/Users/zengjiexia/Desktop/workspace_20210221/slide2/X2Y1R1W1C0_488.tif' to '/Users/zengjiexia/Desktop/workspace_20210221/slide2_orgnised/X7Y1R1W1C0_488.tif'\n",
      "Successfully copied '/Users/zengjiexia/Desktop/workspace_20210221/slide2/X1Y0R2W1C0_488.tif' to '/Users/zengjiexia/Desktop/workspace_20210221/slide2_orgnised/X6Y0R2W1C0_488.tif'\n",
      "Successfully copied '/Users/zengjiexia/Desktop/workspace_20210221/slide2/X0Y1R2W3C0_488.tif' to '/Users/zengjiexia/Desktop/workspace_20210221/slide2_orgnised/X5Y1R2W3C0_488.tif'\n",
      "Successfully copied '/Users/zengjiexia/Desktop/workspace_20210221/slide2/X4Y0R1W3C0_488.tif' to '/Users/zengjiexia/Desktop/workspace_20210221/slide2_orgnised/X9Y0R1W3C0_488.tif'\n",
      "Successfully copied '/Users/zengjiexia/Desktop/workspace_20210221/slide2/X0Y2R3W1C0_488.tif' to '/Users/zengjiexia/Desktop/workspace_20210221/slide2_orgnised/X5Y2R3W1C0_488.tif'\n",
      "Successfully copied '/Users/zengjiexia/Desktop/workspace_20210221/slide2/X3Y0R2W2C0_488.tif' to '/Users/zengjiexia/Desktop/workspace_20210221/slide2_orgnised/X8Y0R2W2C0_488.tif'\n",
      "Successfully copied '/Users/zengjiexia/Desktop/workspace_20210221/slide2/X2Y2R3W2C0_488.tif' to '/Users/zengjiexia/Desktop/workspace_20210221/slide2_orgnised/X7Y2R3W2C0_488.tif'\n",
      "Successfully copied '/Users/zengjiexia/Desktop/workspace_20210221/slide2/X0Y2R1W2C0_488.tif' to '/Users/zengjiexia/Desktop/workspace_20210221/slide2_orgnised/X5Y2R1W2C0_488.tif'\n",
      "Successfully copied '/Users/zengjiexia/Desktop/workspace_20210221/slide2/X2Y2R1W1C0_488.tif' to '/Users/zengjiexia/Desktop/workspace_20210221/slide2_orgnised/X7Y2R1W1C0_488.tif'\n",
      "Successfully copied '/Users/zengjiexia/Desktop/workspace_20210221/slide2/X1Y2R2W2C0_488.tif' to '/Users/zengjiexia/Desktop/workspace_20210221/slide2_orgnised/X6Y2R2W2C0_488.tif'\n",
      "Successfully copied '/Users/zengjiexia/Desktop/workspace_20210221/slide2/X0Y0R3W2C0_488.tif' to '/Users/zengjiexia/Desktop/workspace_20210221/slide2_orgnised/X5Y0R3W2C0_488.tif'\n",
      "Successfully copied '/Users/zengjiexia/Desktop/workspace_20210221/slide2/X3Y1R3W3C0_488.tif' to '/Users/zengjiexia/Desktop/workspace_20210221/slide2_orgnised/X8Y1R3W3C0_488.tif'\n",
      "Successfully copied '/Users/zengjiexia/Desktop/workspace_20210221/slide2/X3Y2R2W1C0_488.tif' to '/Users/zengjiexia/Desktop/workspace_20210221/slide2_orgnised/X8Y2R2W1C0_488.tif'\n",
      "Successfully copied '/Users/zengjiexia/Desktop/workspace_20210221/slide2/X2Y0R3W1C0_488.tif' to '/Users/zengjiexia/Desktop/workspace_20210221/slide2_orgnised/X7Y0R3W1C0_488.tif'\n",
      "Successfully copied '/Users/zengjiexia/Desktop/workspace_20210221/slide2/X4Y2R3W3C0_488.tif' to '/Users/zengjiexia/Desktop/workspace_20210221/slide2_orgnised/X9Y2R3W3C0_488.tif'\n",
      "Successfully copied '/Users/zengjiexia/Desktop/workspace_20210221/slide2/X0Y0R1W1C0_488.tif' to '/Users/zengjiexia/Desktop/workspace_20210221/slide2_orgnised/X5Y0R1W1C0_488.tif'\n",
      "Successfully copied '/Users/zengjiexia/Desktop/workspace_20210221/slide2/X4Y1R2W1C0_488.tif' to '/Users/zengjiexia/Desktop/workspace_20210221/slide2_orgnised/X9Y1R2W1C0_488.tif'\n",
      "Successfully copied '/Users/zengjiexia/Desktop/workspace_20210221/slide2/X1Y1R1W3C0_488.tif' to '/Users/zengjiexia/Desktop/workspace_20210221/slide2_orgnised/X6Y1R1W3C0_488.tif'\n",
      "Successfully copied '/Users/zengjiexia/Desktop/workspace_20210221/slide2/X2Y0R1W2C0_488.tif' to '/Users/zengjiexia/Desktop/workspace_20210221/slide2_orgnised/X7Y0R1W2C0_488.tif'\n"
     ]
    }
   ],
   "source": [
    "for path in get_filepaths_tif(input_path):\n",
    "    path_new = modify_path(path, x=0, y=0, r=0, w=0, c=0)\n",
    "    path_new = path_new.replace(input_path, output_path)\n",
    "    try:\n",
    "        shutil.copyfile(path, path_new)\n",
    "        print(\"Successfully copied '\"+path+\"' to '\"+path_new+\"'\")\n",
    "    except Exception as error:\n",
    "        print(e)\n",
    "        pass"
   ]
  },
  {
   "cell_type": "code",
   "execution_count": null,
   "metadata": {},
   "outputs": [],
   "source": []
  }
 ],
 "metadata": {
  "kernelspec": {
   "display_name": "Python 3",
   "language": "python",
   "name": "python3"
  },
  "language_info": {
   "codemirror_mode": {
    "name": "ipython",
    "version": 3
   },
   "file_extension": ".py",
   "mimetype": "text/x-python",
   "name": "python",
   "nbconvert_exporter": "python",
   "pygments_lexer": "ipython3",
   "version": "3.7.10"
  }
 },
 "nbformat": 4,
 "nbformat_minor": 2
}
